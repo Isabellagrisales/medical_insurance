{
 "cells": [
  {
   "cell_type": "markdown",
   "id": "1555d8c0-19db-4062-9233-f386b07e28dc",
   "metadata": {},
   "source": [
    "Medical Insurance Project "
   ]
  },
  {
   "cell_type": "markdown",
   "id": "763ec0f3-0307-410c-b17f-75f60b4ba359",
   "metadata": {},
   "source": [
    "In this project we want to find average age, average cost by location, comparing the average cost for smokers and non-smokers\n",
    "average price for people with children compared to people with no children, checking for bias within the dataset using Python"
   ]
  },
  {
   "cell_type": "code",
   "execution_count": 351,
   "id": "bad6bd2d-5e43-4c52-8de0-bbd38513eee2",
   "metadata": {},
   "outputs": [],
   "source": [
    "import csv\n",
    "import pandas as pd"
   ]
  },
  {
   "cell_type": "markdown",
   "id": "51aeb14a-a1fd-4efd-b123-52657ab6e715",
   "metadata": {},
   "source": [
    "Find the Average the people in our dataset "
   ]
  },
  {
   "cell_type": "code",
   "execution_count": 353,
   "id": "7c09d89b-1c8b-4b7d-992a-7a09de361b3b",
   "metadata": {},
   "outputs": [
    {
     "data": {
      "text/html": [
       "<div>\n",
       "<style scoped>\n",
       "    .dataframe tbody tr th:only-of-type {\n",
       "        vertical-align: middle;\n",
       "    }\n",
       "\n",
       "    .dataframe tbody tr th {\n",
       "        vertical-align: top;\n",
       "    }\n",
       "\n",
       "    .dataframe thead th {\n",
       "        text-align: right;\n",
       "    }\n",
       "</style>\n",
       "<table border=\"1\" class=\"dataframe\">\n",
       "  <thead>\n",
       "    <tr style=\"text-align: right;\">\n",
       "      <th></th>\n",
       "      <th>age</th>\n",
       "      <th>sex</th>\n",
       "      <th>bmi</th>\n",
       "      <th>children</th>\n",
       "      <th>smoker</th>\n",
       "      <th>region</th>\n",
       "      <th>charges</th>\n",
       "    </tr>\n",
       "  </thead>\n",
       "  <tbody>\n",
       "    <tr>\n",
       "      <th>0</th>\n",
       "      <td>19</td>\n",
       "      <td>female</td>\n",
       "      <td>27.900</td>\n",
       "      <td>0</td>\n",
       "      <td>yes</td>\n",
       "      <td>southwest</td>\n",
       "      <td>16884.92400</td>\n",
       "    </tr>\n",
       "    <tr>\n",
       "      <th>1</th>\n",
       "      <td>18</td>\n",
       "      <td>male</td>\n",
       "      <td>33.770</td>\n",
       "      <td>1</td>\n",
       "      <td>no</td>\n",
       "      <td>southeast</td>\n",
       "      <td>1725.55230</td>\n",
       "    </tr>\n",
       "    <tr>\n",
       "      <th>2</th>\n",
       "      <td>28</td>\n",
       "      <td>male</td>\n",
       "      <td>33.000</td>\n",
       "      <td>3</td>\n",
       "      <td>no</td>\n",
       "      <td>southeast</td>\n",
       "      <td>4449.46200</td>\n",
       "    </tr>\n",
       "    <tr>\n",
       "      <th>3</th>\n",
       "      <td>33</td>\n",
       "      <td>male</td>\n",
       "      <td>22.705</td>\n",
       "      <td>0</td>\n",
       "      <td>no</td>\n",
       "      <td>northwest</td>\n",
       "      <td>21984.47061</td>\n",
       "    </tr>\n",
       "    <tr>\n",
       "      <th>4</th>\n",
       "      <td>32</td>\n",
       "      <td>male</td>\n",
       "      <td>28.880</td>\n",
       "      <td>0</td>\n",
       "      <td>no</td>\n",
       "      <td>northwest</td>\n",
       "      <td>3866.85520</td>\n",
       "    </tr>\n",
       "    <tr>\n",
       "      <th>...</th>\n",
       "      <td>...</td>\n",
       "      <td>...</td>\n",
       "      <td>...</td>\n",
       "      <td>...</td>\n",
       "      <td>...</td>\n",
       "      <td>...</td>\n",
       "      <td>...</td>\n",
       "    </tr>\n",
       "    <tr>\n",
       "      <th>1333</th>\n",
       "      <td>50</td>\n",
       "      <td>male</td>\n",
       "      <td>30.970</td>\n",
       "      <td>3</td>\n",
       "      <td>no</td>\n",
       "      <td>northwest</td>\n",
       "      <td>10600.54830</td>\n",
       "    </tr>\n",
       "    <tr>\n",
       "      <th>1334</th>\n",
       "      <td>18</td>\n",
       "      <td>female</td>\n",
       "      <td>31.920</td>\n",
       "      <td>0</td>\n",
       "      <td>no</td>\n",
       "      <td>northeast</td>\n",
       "      <td>2205.98080</td>\n",
       "    </tr>\n",
       "    <tr>\n",
       "      <th>1335</th>\n",
       "      <td>18</td>\n",
       "      <td>female</td>\n",
       "      <td>36.850</td>\n",
       "      <td>0</td>\n",
       "      <td>no</td>\n",
       "      <td>southeast</td>\n",
       "      <td>1629.83350</td>\n",
       "    </tr>\n",
       "    <tr>\n",
       "      <th>1336</th>\n",
       "      <td>21</td>\n",
       "      <td>female</td>\n",
       "      <td>25.800</td>\n",
       "      <td>0</td>\n",
       "      <td>no</td>\n",
       "      <td>southwest</td>\n",
       "      <td>2007.94500</td>\n",
       "    </tr>\n",
       "    <tr>\n",
       "      <th>1337</th>\n",
       "      <td>61</td>\n",
       "      <td>female</td>\n",
       "      <td>29.070</td>\n",
       "      <td>0</td>\n",
       "      <td>yes</td>\n",
       "      <td>northwest</td>\n",
       "      <td>29141.36030</td>\n",
       "    </tr>\n",
       "  </tbody>\n",
       "</table>\n",
       "<p>1338 rows × 7 columns</p>\n",
       "</div>"
      ],
      "text/plain": [
       "      age     sex     bmi  children smoker     region      charges\n",
       "0      19  female  27.900         0    yes  southwest  16884.92400\n",
       "1      18    male  33.770         1     no  southeast   1725.55230\n",
       "2      28    male  33.000         3     no  southeast   4449.46200\n",
       "3      33    male  22.705         0     no  northwest  21984.47061\n",
       "4      32    male  28.880         0     no  northwest   3866.85520\n",
       "...   ...     ...     ...       ...    ...        ...          ...\n",
       "1333   50    male  30.970         3     no  northwest  10600.54830\n",
       "1334   18  female  31.920         0     no  northeast   2205.98080\n",
       "1335   18  female  36.850         0     no  southeast   1629.83350\n",
       "1336   21  female  25.800         0     no  southwest   2007.94500\n",
       "1337   61  female  29.070         0    yes  northwest  29141.36030\n",
       "\n",
       "[1338 rows x 7 columns]"
      ]
     },
     "execution_count": 353,
     "metadata": {},
     "output_type": "execute_result"
    }
   ],
   "source": [
    "medical_insurance_df = pd.read_csv('insurance.csv')\n",
    "medical_insurance_df"
   ]
  },
  {
   "cell_type": "markdown",
   "id": "8d9eb38a-0c8e-44d2-8097-1a4a9b6b5a6a",
   "metadata": {},
   "source": [
    "Checking for bias in our dataset"
   ]
  },
  {
   "cell_type": "code",
   "execution_count": 355,
   "id": "1236a8e2-d4b9-4a9e-860a-e26efb83929e",
   "metadata": {},
   "outputs": [
    {
     "name": "stdout",
     "output_type": "stream",
     "text": [
      "The number of women is: 662\n",
      "The number of men is: 676\n"
     ]
    }
   ],
   "source": [
    "number_of_women = medical_insurance_df['sex'].tolist().count('female')\n",
    "number_of_men = medical_insurance_df['sex'].tolist().count('male')\n",
    "\n",
    "print(f'The number of women is: {number_of_women}')\n",
    "print(f'The number of men is: {number_of_men}')\n",
    "\n"
   ]
  },
  {
   "cell_type": "markdown",
   "id": "f0c58f03-9289-43fc-ad69-08ffd024dd6b",
   "metadata": {},
   "source": [
    "Average age"
   ]
  },
  {
   "cell_type": "code",
   "execution_count": 357,
   "id": "dc783d3d-96bf-439a-b792-69e6cf793c38",
   "metadata": {},
   "outputs": [
    {
     "name": "stdout",
     "output_type": "stream",
     "text": [
      "The average age of the people in our dataset is: 39.0 years old\n"
     ]
    }
   ],
   "source": [
    "#create a variable to store the formula for average age\n",
    "\n",
    "average_age = medical_insurance_df['age'].mean().round(0)\n",
    "\n",
    "print(f\"The average age of the people in our dataset is: {average_age} years old\")"
   ]
  },
  {
   "cell_type": "markdown",
   "id": "f32d3731-b3e6-440f-9752-149a5c88ce6b",
   "metadata": {},
   "source": [
    "Average cost for men and women"
   ]
  },
  {
   "cell_type": "code",
   "execution_count": 359,
   "id": "75b0dc86-68f2-4f43-99cb-8ee0fa177d96",
   "metadata": {},
   "outputs": [
    {
     "name": "stdout",
     "output_type": "stream",
     "text": [
      "The average cost for women is: 12570.0\n",
      "The average cost for men is: 13957.0\n"
     ]
    }
   ],
   "source": [
    "average_cost_women = medical_insurance_df[medical_insurance_df['sex'] == 'female']['charges'].mean().round(0)\n",
    "average_cost_men = medical_insurance_df[medical_insurance_df['sex'] == 'male']['charges'].mean().round(0)\n",
    "\n",
    "print(f'The average cost for women is: {average_cost_women}')\n",
    "print(f'The average cost for men is: {average_cost_men}')\n"
   ]
  },
  {
   "cell_type": "markdown",
   "id": "30d3b117-668e-4b2f-8d44-5011b99f397c",
   "metadata": {},
   "source": [
    "Find the average cost by location"
   ]
  },
  {
   "cell_type": "code",
   "execution_count": 361,
   "id": "11926486-98e4-49e5-aea9-3e60d47e0915",
   "metadata": {},
   "outputs": [
    {
     "name": "stdout",
     "output_type": "stream",
     "text": [
      "region\n",
      "northeast    13406.0\n",
      "northwest    12418.0\n",
      "southeast    14735.0\n",
      "southwest    12347.0\n",
      "Name: charges, dtype: float64\n",
      "The highest insurance price is for the northwest\n"
     ]
    }
   ],
   "source": [
    "average_cost_by_location = medical_insurance_df.groupby('region')['charges'].mean().round(0)\n",
    "print(average_cost_by_location)\n",
    "\n",
    "print('The highest insurance price is for the northwest')\n"
   ]
  },
  {
   "cell_type": "markdown",
   "id": "255f7d48-6b4a-42b8-b43e-a5857ec20e21",
   "metadata": {},
   "source": [
    "Insurance cost for smokers vs. non smokers "
   ]
  },
  {
   "cell_type": "code",
   "execution_count": 363,
   "id": "4265ef4e-4e5a-42cc-811a-f40a255dcd37",
   "metadata": {},
   "outputs": [
    {
     "name": "stdout",
     "output_type": "stream",
     "text": [
      "average insurance cost for smokers  is: 32050.0\n",
      "average insurance cost for non-smokers is:8434.0\n",
      "The difference between smokers and non-smokers is:23616.0\n"
     ]
    }
   ],
   "source": [
    "average_cost_smokers = medical_insurance_df[medical_insurance_df['smoker'] == 'yes']['charges'].mean().round(0)\n",
    "average_cost_non_smokers = medical_insurance_df[medical_insurance_df['smoker'] == 'no']['charges'].mean().round(0)\n",
    "\n",
    "difference = average_cost_smokers - average_cost_non_smokers\n",
    "\n",
    "print(f\"average insurance cost for smokers  is: {average_cost_smokers}\")\n",
    "print(f\"average insurance cost for non-smokers is:{average_cost_non_smokers}\")\n",
    "print(f\"The difference between smokers and non-smokers is:{difference}\")"
   ]
  },
  {
   "cell_type": "markdown",
   "id": "1f61367e-922e-4a27-a35a-45813f4f287f",
   "metadata": {},
   "source": [
    "people with children vs no children"
   ]
  },
  {
   "cell_type": "code",
   "execution_count": 365,
   "id": "ac39efc3-7fe1-4bf1-885a-043e50032706",
   "metadata": {},
   "outputs": [
    {
     "name": "stdout",
     "output_type": "stream",
     "text": [
      "the average cost for people with children is: 13950.0\n",
      "the average cost for people with children is: 12366.0\n",
      "The difference in cost between people with children and no children is:1584.0\n"
     ]
    }
   ],
   "source": [
    "average_cost_with_children = (lambda medical_insurance_df: medical_insurance_df[medical_insurance_df['children'] > 0]['charges'].mean().round(0))(medical_insurance_df)\n",
    "average_cost_with_no_children = (lambda medical_insurance_df: medical_insurance_df[medical_insurance_df['children'] == 0]['charges'].mean().round(0))(medical_insurance_df)\n",
    "\n",
    "print(f\"the average cost for people with children is: {average_cost_with_children}\")\n",
    "\n",
    "print(f\"the average cost for people with children is: {average_cost_with_no_children}\")\n",
    "\n",
    "difference_in_cost = average_cost_with_children - average_cost_with_no_children\n",
    "print(f\"The difference in cost between people with children and no children is:{difference_in_cost}\")"
   ]
  },
  {
   "cell_type": "code",
   "execution_count": null,
   "id": "41bf5006-015d-461f-ba9b-5f5bca7270b0",
   "metadata": {},
   "outputs": [],
   "source": []
  }
 ],
 "metadata": {
  "kernelspec": {
   "display_name": "Python 3 (ipykernel)",
   "language": "python",
   "name": "python3"
  },
  "language_info": {
   "codemirror_mode": {
    "name": "ipython",
    "version": 3
   },
   "file_extension": ".py",
   "mimetype": "text/x-python",
   "name": "python",
   "nbconvert_exporter": "python",
   "pygments_lexer": "ipython3",
   "version": "3.12.4"
  }
 },
 "nbformat": 4,
 "nbformat_minor": 5
}
